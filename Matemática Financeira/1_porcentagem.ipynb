{
 "cells": [
  {
   "cell_type": "markdown",
   "metadata": {},
   "source": [
    "### Porcentagem (%)"
   ]
  },
  {
   "cell_type": "markdown",
   "metadata": {},
   "source": [
    "A porcentagem é uma forma de expressar uma razão ou proporção em relação a 100. \n",
    "\n",
    "O símbolo % significa \"por cento\", ou seja, \"para cada 100\"."
   ]
  },
  {
   "cell_type": "markdown",
   "metadata": {},
   "source": [
    "Por exemplo:\n",
    "\n",
    "- 50% significa 50 a cada 100, ou metade de algo.\n",
    "\n",
    "- 25% significa 25 a cada 100, ou um quarto de algo.\n",
    "\n",
    "- 10% significa 10 a cada 100, ou um décimo de algo."
   ]
  },
  {
   "cell_type": "markdown",
   "metadata": {},
   "source": [
    "#### Fórmula da Porcentagem\n"
   ]
  },
  {
   "cell_type": "markdown",
   "metadata": {},
   "source": [
    "Para calcular a porcentagem de um número:\n",
    "\n",
    "$$\n",
    "\\text{Porcentagem} = \\left( \\frac{\\text{Parte}}{\\text{Total}} \\right) \\times 100\n",
    "$$\n"
   ]
  },
  {
   "cell_type": "markdown",
   "metadata": {},
   "source": [
    "Se quisermos encontrar x % de um número, usamos a fórmula:\n",
    "$$\n",
    "\\text{Valor} = \\left( \\frac{\\text{X}}{100} \\right) \\times \\text{Número}\n",
    "$$\n"
   ]
  },
  {
   "cell_type": "code",
   "execution_count": 6,
   "metadata": {},
   "outputs": [
    {
     "name": "stdout",
     "output_type": "stream",
     "text": [
      "Qual é 20% de 200?\n",
      "20% de 200 é: 40.0\n"
     ]
    }
   ],
   "source": [
    "print('Qual é 20% de 200?')\n",
    "porentagem_20 = (20/100) * 200\n",
    "print(f'20% de 200 é: {porentagem_20}')\n"
   ]
  },
  {
   "cell_type": "code",
   "execution_count": 11,
   "metadata": {},
   "outputs": [
    {
     "name": "stdout",
     "output_type": "stream",
     "text": [
      "Se um produto custa R$ 150 e teve um aumento de 10%, qual o novo preço?\n",
      "Se um produto custa R$ 150 e teve um aumento de 10% é 15.0\n",
      "E o novo preço é de R$ 165.0\n"
     ]
    }
   ],
   "source": [
    "print('Se um produto custa R$ 150 e teve um aumento de 10%, qual o novo preço?')\n",
    "porentagem_10 = (10/100)*150\n",
    "porentagem_10_soma = porentagem_10 + 150 \n",
    "print(f'Se um produto custa R$ 150 e teve um aumento de 10% é {porentagem_10}')\n",
    "print(f'E o novo preço é de R$ {porentagem_10_soma}')"
   ]
  },
  {
   "cell_type": "markdown",
   "metadata": {},
   "source": [
    "### Exercicíos Básicos"
   ]
  },
  {
   "cell_type": "markdown",
   "metadata": {},
   "source": [
    "1) Um produto custa R$ 200 e está com um desconto de 15%. Qual o novo preço do produto?"
   ]
  },
  {
   "cell_type": "code",
   "execution_count": 15,
   "metadata": {},
   "outputs": [
    {
     "name": "stdout",
     "output_type": "stream",
     "text": [
      "O novo preço do produto após o desconto de 15% será R$ 170.0\n"
     ]
    }
   ],
   "source": [
    "produto = 200\n",
    "desconto = (15/100) * produto\n",
    "\n",
    "nv_prec = produto - desconto\n",
    "print(f'O novo preço do produto após o desconto de 15% será R$ {nv_prec}')"
   ]
  },
  {
   "cell_type": "markdown",
   "metadata": {},
   "source": [
    "2) Um aluno acertou 80% das 50 questões de uma prova. Quantas questões ele acertou?"
   ]
  },
  {
   "cell_type": "code",
   "execution_count": 16,
   "metadata": {},
   "outputs": [
    {
     "name": "stdout",
     "output_type": "stream",
     "text": [
      "O aluno acertou 40.0 questoes\n"
     ]
    }
   ],
   "source": [
    "aluno = (80/100)*50\n",
    "print(f'O aluno acertou {aluno} questoes')"
   ]
  },
  {
   "cell_type": "markdown",
   "metadata": {},
   "source": [
    "3) Uma loja aumentou o preço de um celular de R$ 1.500 para R$ 1.650. Qual foi o percentual de aumento?"
   ]
  },
  {
   "cell_type": "code",
   "execution_count": 25,
   "metadata": {},
   "outputs": [
    {
     "name": "stdout",
     "output_type": "stream",
     "text": [
      "Aumento: 150\n",
      "% 10.0\n",
      "Tivemos um aumento de 10.0%\n"
     ]
    }
   ],
   "source": [
    "preco_antigo = 1500\n",
    "preco_novo = 1650\n",
    "\n",
    "aumento = preco_novo - preco_antigo\n",
    "print(f'Aumento: {aumento}')\n",
    "\n",
    "perc = (aumento/preco_antigo) * 100\n",
    "print(f'% {perc}')\n",
    "\n",
    "print(f'Tivemos um aumento de {perc}%')\n"
   ]
  },
  {
   "cell_type": "markdown",
   "metadata": {},
   "source": [
    "4) Um carro estava com 25% do tanque cheio. Se o tanque tem capacidade para 60 litros, quantos litros de combustível havia no tanque?"
   ]
  },
  {
   "cell_type": "code",
   "execution_count": 29,
   "metadata": {},
   "outputs": [
    {
     "name": "stdout",
     "output_type": "stream",
     "text": [
      "No tanque havia 15.0 Litros de combustível\n"
     ]
    }
   ],
   "source": [
    "carro = (25/100)\n",
    "tanque = 60 \n",
    "\n",
    "tanque_antigo = carro * 60\n",
    "print(f'No tanque havia {tanque_antigo} Litros de combustível')"
   ]
  },
  {
   "cell_type": "markdown",
   "metadata": {},
   "source": [
    "### Exercicíos Intermediários"
   ]
  },
  {
   "cell_type": "markdown",
   "metadata": {},
   "source": [
    "5) O preço de um serviço subiu 20% no primeiro mês e caiu 10% no segundo mês. Se o valor inicial era R$ 1.000, qual o valor final após os dois reajustes?\n",
    "\n"
   ]
  },
  {
   "cell_type": "code",
   "execution_count": 54,
   "metadata": {},
   "outputs": [
    {
     "name": "stdout",
     "output_type": "stream",
     "text": [
      "Aumento de 20% sobre R$ 1000: 1200.0\n",
      "Redução de 10% sobre R$ 1200.0: 1080.0 \n"
     ]
    }
   ],
   "source": [
    "m1 = (20/100)\n",
    "m2 = (10/100)\n",
    "\n",
    "valor = 1000\n",
    "\n",
    "valor_m1 = valor+(m1*valor)\n",
    "preco_final = (valor_m1- (m2/valor_m1))\n",
    "\n",
    "print(f'Aumento de 20% sobre R$ {valor}: {valor_m1}')\n",
    "\n",
    "print(f'Redução de 10% sobre R$ {valor_m1}: {valor_m1-(m2*valor_m1)} ')\n"
   ]
  },
  {
   "cell_type": "markdown",
   "metadata": {},
   "source": [
    "6) Uma empresa deseja aumentar a produção em 35%. Se atualmente produz 800 peças por mês, quantas peças serão produzidas após o aumento?\n"
   ]
  },
  {
   "cell_type": "code",
   "execution_count": 59,
   "metadata": {},
   "outputs": [
    {
     "name": "stdout",
     "output_type": "stream",
     "text": [
      "O aumento será de 1080.0 peças por mês\n"
     ]
    }
   ],
   "source": [
    "producao = 35/100\n",
    "pecas = 800\n",
    "aumento_prod = producao*pecas\n",
    "print(f'O aumento será de {aumento_prod+pecas} peças por mês')"
   ]
  },
  {
   "cell_type": "markdown",
   "metadata": {},
   "source": [
    "7) Um investidor teve um lucro de 12% sobre um capital inicial de R$ 15.000. Qual foi o lucro e o saldo final?\n",
    "\n"
   ]
  },
  {
   "cell_type": "code",
   "execution_count": 64,
   "metadata": {},
   "outputs": [
    {
     "name": "stdout",
     "output_type": "stream",
     "text": [
      "O lucro de 1800.0\n",
      "Saldo Final: 16800.0\n"
     ]
    }
   ],
   "source": [
    "capital = 15000\n",
    "\n",
    "lucro = (12/100) * capital\n",
    "print(f'O lucro de {lucro}')\n",
    "print(f'Saldo Final: {lucro + capital}')"
   ]
  },
  {
   "cell_type": "markdown",
   "metadata": {},
   "source": [
    "8) O preço de um produto subiu de R$ 240 para R$ 300. Qual foi a porcentagem de aumento?"
   ]
  },
  {
   "cell_type": "code",
   "execution_count": 66,
   "metadata": {},
   "outputs": [
    {
     "name": "stdout",
     "output_type": "stream",
     "text": [
      "Aumento: 60\n",
      "Tivemos um aumento de 25.0%\n"
     ]
    }
   ],
   "source": [
    "p_antigo = 240\n",
    "p_novo = 300\n",
    "\n",
    "aumento = p_novo - p_antigo\n",
    "print(f'Aumento: {aumento}')\n",
    "\n",
    "perc = (aumento/p_antigo) * 100\n",
    "print(f'Tivemos um aumento de {perc}%')"
   ]
  },
  {
   "cell_type": "markdown",
   "metadata": {},
   "source": [
    "### Exercicíos Avançados"
   ]
  },
  {
   "cell_type": "markdown",
   "metadata": {},
   "source": []
  }
 ],
 "metadata": {
  "kernelspec": {
   "display_name": "Python 3",
   "language": "python",
   "name": "python3"
  },
  "language_info": {
   "codemirror_mode": {
    "name": "ipython",
    "version": 3
   },
   "file_extension": ".py",
   "mimetype": "text/x-python",
   "name": "python",
   "nbconvert_exporter": "python",
   "pygments_lexer": "ipython3",
   "version": "3.12.2"
  }
 },
 "nbformat": 4,
 "nbformat_minor": 2
}
